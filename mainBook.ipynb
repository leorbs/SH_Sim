{
 "cells": [
  {
   "cell_type": "code",
   "execution_count": 3,
   "metadata": {
    "collapsed": true,
    "pycharm": {
     "is_executing": false
    }
   },
   "outputs": [],
   "source": [
    "from influxdb import InfluxDBClient\n",
    "import uuid\n",
    "import random\n",
    "import time"
   ]
  },
  {
   "cell_type": "code",
   "execution_count": 4,
   "outputs": [],
   "source": [
    "client = InfluxDBClient(host='192.52.35.50', port=8086)"
   ],
   "metadata": {
    "collapsed": false,
    "pycharm": {
     "name": "#%%\n",
     "is_executing": false
    }
   }
  },
  {
   "cell_type": "code",
   "execution_count": 5,
   "outputs": [],
   "source": [
    "client.create_database('smartHomeTest')"
   ],
   "metadata": {
    "collapsed": false,
    "pycharm": {
     "name": "#%%\n",
     "is_executing": false
    }
   }
  },
  {
   "cell_type": "raw",
   "source": [
    "This is the description for the line protocol:\n",
    "weather,location=us-midwest temperature=82 1465839830100400200\n",
    "  |    -------------------- --------------  |\n",
    "  |             |             |             |\n",
    "  |             |             |             |\n",
    "+-----------+--------+-+---------+-+---------+\n",
    "|measurement|,tag_set| |field_set| |timestamp|\n",
    "+-----------+--------+-+---------+-+---------+\n"
   ],
   "metadata": {
    "collapsed": false,
    "pycharm": {
     "name": "#%% raw\n"
    }
   }
  },
  {
   "cell_type": "code",
   "execution_count": 6,
   "outputs": [],
   "source": [
    "random.seed()\n",
    "\n",
    "\n",
    "measurement_name = 'sh1'\n",
    "\n",
    "persons = [ \n",
    "    \"Leo\",\n",
    "    \"Oli\"\n",
    "]\n",
    "\n",
    "locations = [\n",
    "    \"Wohnzimmer\",\n",
    "    \"Küche\",\n",
    "    \"Bad\",\n",
    "    \"Schlafzimmer\"\n",
    "]\n",
    "\n",
    "#[name,standardverbrauch idle, spitzenverbrauch,DurchschnittlicheDauerSpitzenverbrauchInTicks]\n",
    "verbraucher = [\n",
    "    [\"Server\",100,300,2],\n",
    "    [\"Kühlschrank\",50,100,3],\n",
    "    [\"Mixer\",0,3000,1],\n",
    "    [\"Licht\",20,100,36],\n",
    "    [\"Lüftung\",20,40,12],\n",
    "    [\"Fernseher\",1,100,15],\n",
    "    [\"PC\",5,300,20],\n",
    "    [\"Ofen\",0,3000,15]\n",
    "]\n",
    "\n",
    "#temperatursensor\n",
    "#Humiditysensor\n",
    "#heizungssteuerung\n",
    "\n",
    "heizung_stby = 17\n",
    "heizung_normal = 22"
   ],
   "metadata": {
    "collapsed": false,
    "pycharm": {
     "name": "#%%\n",
     "is_executing": false
    }
   }
  },
  {
   "cell_type": "code",
   "execution_count": null,
   "outputs": [],
   "source": [
    "#creates a dataFrame, that can be supplied to InfluxDB\n",
    "#tagSet needs to be supplied in [\"tagName1=tagValue1\",\"tagName2=tagValue2\"] Optional\n",
    "#fieldSet needs to be supplied in [\"fieldName1=fieldValue1\",\"fieldName2=fieldValue2\"]\n",
    "def createInsertDataPoint(tagSet, fieldSet,measurementName = measurement_name, timestamp = time.time() * 1000):\n",
    "    returnDF = \"\" + measurementName \n",
    "    \n",
    "    for tagElement in tagSet:\n",
    "        returnDF = returnDF + \",\" + tagElement\n",
    "    \n",
    "    returnDF = returnDF + \" \"\n",
    "    \n",
    "    first=True;\n",
    "    \n",
    "    for fieldElement in fieldSet:\n",
    "        if first:\n",
    "            returnDF = returnDF + fieldElement\n",
    "            first = False\n",
    "        else:\n",
    "            returnDF = returnDF + \",\" + fieldElement\n",
    "    \n",
    "    returnDF = returnDF + \" \"\n",
    "    \n",
    "    returnDF = returnDF + str(timestamp)\n",
    "\n",
    "    return returnDF"
   ],
   "metadata": {
    "collapsed": false,
    "pycharm": {
     "name": "#%%\n",
     "is_executing": false
    }
   }
  },
  {
   "cell_type": "code",
   "execution_count": null,
   "outputs": [],
   "source": [
    "#the sum of x to 1 is close to 0.5. That means, there will be a 50% chance\n",
    "#until it is the first time ticked to 1\n",
    "#every next tip has a probability of 0.25\n",
    "class halfProbability:\n",
    "    \n",
    "    def __init__(self, half):\n",
    "        self.half = half\n",
    "    def tick (self):\n",
    "        if self.half > 1:\n",
    "            self.half = self.half - 1\n",
    "        return 1.0/2.0 * 1.0/2.0**float(self.half)"
   ],
   "metadata": {
    "collapsed": false,
    "pycharm": {
     "name": "#%%\n",
     "is_executing": false
    }
   }
  },
  {
   "cell_type": "code",
   "execution_count": null,
   "outputs": [],
   "source": [
    "#this is the person cell, that keeps track of the plausability of the persons that are at home\n",
    "\n",
    "#there will be objects stored in it [string name, bool yes/no, int sinceTicks, probabilisticObject]\n",
    "personsCurrentlyAtHomeSince = []\n",
    "\n",
    "#parameter:\n",
    "\n",
    "# persons will be averagely 4 h at home, or away. That will be 48 ticks\n",
    "homeHalfTime = 48\n",
    "\n",
    "for person in persons:\n",
    "    personsCurrentlyAtHomeSince.append([person,True,0,halfProbability(homeHalfTime)])\n",
    "\n",
    "def manager_persons(introduceAnnormaly = False):\n",
    "    \n",
    "    for person in personsCurrentlyAtHomeSince:\n",
    "        person[2] += 1 #adds one to the ticks, that they are at home\n",
    "        \n",
    "        #print(person)\n",
    "        \n",
    "        # now the probabilistic stuff:\n",
    "        #grab our probabilistic object\n",
    "        rand = person[3].tick()\n",
    "        #print(str(rand))\n",
    "        if random.random() < rand:            \n",
    "            print(createInsertDataPoint(\n",
    "                tagSet=[\"Person=\"+person[0]],\n",
    "                fieldSet=[\"isHome=\" + str(person[1])]))\n",
    "            \n",
    "            person[1] = not person[1]\n",
    "            person[2] = 0\n",
    "            person[3] = halfProbability(homeHalfTime)\n",
    "        "
   ],
   "metadata": {
    "collapsed": false,
    "pycharm": {
     "name": "#%%\n",
     "is_executing": false
    }
   }
  },
  {
   "cell_type": "code",
   "execution_count": null,
   "outputs": [],
   "source": [
    "#anormalies\n",
    "def openWindow(temp):\n",
    "    temp -= heizung_stby * 0.05 #drop temp by 5% of stby temp\n",
    "    return temp\n",
    "\n",
    "def heatingToHot(temp):\n",
    "    temp += heizung_normal * 0.03 #heat 3%\n",
    "    return temp\n",
    "\n",
    "def none(temp):\n",
    "    random.random()#do nothing\n",
    "    return temp\n",
    "\n",
    "#in there are [temp,currentannormaly,howLongShouldTheAnormalyLast,location]\n",
    "currentTemps = []\n",
    "for room in locations:\n",
    "    currentTemps.append([21.0,none,0,room])\n",
    "    \n",
    "heatingAnormalyTimer = 20\n",
    "heatingAnormalies = [openWindow,heatingToHot,none]\n",
    "\n",
    "\n",
    "def manage_heating(introduceAnnormaly = False):\n",
    "    atLeastOneIsHome = False\n",
    "    for person in personsCurrentlyAtHomeSince:\n",
    "        if person[1]:\n",
    "            atLeastOneIsHome = True\n",
    "    for currentTemp in currentTemps:\n",
    "        if atLeastOneIsHome:\n",
    "            if currentTemp[0] < heizung_normal:\n",
    "                currentTemp[0] += heizung_normal * 0.02 #heat 2% per tick\n",
    "        else: #no one is home\n",
    "            if currentTemp[0] > heizung_stby:\n",
    "                currentTemp[0] -= heizung_stby * 0.02 #cool 2% per tick\n",
    "        \n",
    "        #now handle the anormalies:\n",
    "        if currentTemp[2] > 0:\n",
    "            currentTemp[2] -= 1\n",
    "            currentTemp[0] = currentTemp[1](currentTemp[0])#start the anormaly function and safe temp\n",
    "            \n",
    "            \n",
    "    if introduceAnnormaly:\n",
    "        #chose a random room and start an anormaly\n",
    "        roomA = random.choice(currentTemps)\n",
    "        roomA[1] = random.choice(heatingAnormalies)\n",
    "        roomA[2] = heatingAnormalyTimer\n",
    "        print(\"Introducing an Anormaly in the heating system: \" + str(roomA[3]))\n",
    "        \n",
    "    for temp in currentTemps:\n",
    "        #print(\"current temp: \" + str(temp))\n",
    "        print(createInsertDataPoint(\n",
    "                tagSet=[\"Room=\"+temp[3]],\n",
    "                fieldSet=[\"Temperature=\" + str(temp[0])]))\n",
    "        "
   ],
   "metadata": {
    "collapsed": false,
    "pycharm": {
     "name": "#%%\n",
     "is_executing": false
    }
   }
  },
  {
   "cell_type": "code",
   "execution_count": null,
   "outputs": [],
   "source": [
    "#[verbraucherName,standardverbrauch,spitzenverbrauch,peakDauer],location,aktuellerVerbrauch,peakTicks\n",
    "currentEnergy = []\n",
    "\n",
    "for verbr in verbraucher:\n",
    "    currentEnergy.append([verbr,random.choice(locations),0,0])\n",
    "    \n",
    "def manage_energy(introduceAnnormaly = False):\n",
    "    personsAtHome = 0;\n",
    "    for person in personsCurrentlyAtHomeSince:\n",
    "        if person[1]:\n",
    "            personsAtHome += 1\n",
    "    \n",
    "    ItemsInUse = 0 # we assume, that per person home, is one item in use\n",
    "    for verbr in currentEnergy:\n",
    "        if verbr[3] > 0:\n",
    "            ItemsInUse += 1\n",
    "    \n",
    "    if personsAtHome > ItemsInUse:\n",
    "        verb = random.choice(currentEnergy)\n",
    "        verb[3] = verb[0][3] # set a new device to use the spitzenverbrauch\n",
    "        verbr[2] = verbr[0][2] #set to spitzenverbrauch\n",
    "        \n",
    "    for verbr in currentEnergy:\n",
    "        if verbr[3] > 0: #ticks left\n",
    "            verbr[3] -= 1#one tick less\n",
    "        else:\n",
    "            verbr[2] = verbr[0][1] #set to idle verbrauch\n",
    "    \n",
    "    if introduceAnnormaly:\n",
    "        verb = random.choice(currentEnergy)\n",
    "        verb[3] = verb[0][3] * 2 #set to wait 2 times the normal spitzenverbrauch ticks, befor using normal again\n",
    "        if(random.random() > 0.5):\n",
    "            verb[3] = verb[0][3] # set a new device to use the spitzenverbrauch\n",
    "        else:\n",
    "            verb[3] = 0 # set to 0, as an anormaly\n",
    "    \n",
    "    for verbr in currentEnergy:\n",
    "        print(createInsertDataPoint(\n",
    "            tagSet=[\"Raum=\"+str(verbr[1]),\"Verbraucher=\"+str(verbr[0][0])],\n",
    "            fieldSet=[\"Verbrauch=\" + str(verbr[2])]))\n",
    "    \n",
    "    "
   ],
   "metadata": {
    "collapsed": false,
    "pycharm": {
     "name": "#%%\n",
     "is_executing": false
    }
   }
  },
  {
   "cell_type": "code",
   "execution_count": null,
   "outputs": [],
   "source": [
    "#tick engine\n",
    "\n",
    "# 1 Second real time is 5 minutes simulation time\n",
    "\n",
    "tickSubscribers = [\n",
    "    manager_persons,\n",
    "    manage_heating,\n",
    "    manage_energy\n",
    "    \n",
    "]\n",
    "\n",
    "for i in range(0,100):\n",
    "    time.sleep(0.5)\n",
    "    for func in tickSubscribers:\n",
    "        anormaly = False\n",
    "        if (random.random() > 0.99):\n",
    "            print(\"Anormaly introduced\")\n",
    "            anormaly = True\n",
    "        func(anormaly)\n"
   ],
   "metadata": {
    "collapsed": false,
    "pycharm": {
     "name": "#%%\n",
     "is_executing": false
    }
   }
  },
  {
   "cell_type": "code",
   "execution_count": null,
   "outputs": [],
   "source": [
    "\n",
    "measurement_name = 'sh1'\n",
    "number_of_points = 250000\n",
    "data_end_time = int(time.time() * 1000) #milliseconds\n",
    "\n",
    "location_tags = [ \"reservoir\",\n",
    "\"orchard\",\n",
    "\"vineyard\",\n",
    "\"quarry\",\n",
    "\"hospital\"]\n",
    "\n",
    "fruit_tags = [ \"apple\",\n",
    "\"banana\",\n",
    "\"cantaloupe\",\n",
    "\"cherry\",\n",
    "\"coconut\",\n",
    "\"durian\"]\n",
    "\n",
    "id_tags = []\n",
    "for i in range(100):\n",
    "    id_tags.append(str(uuid.uuid4()))\n",
    "\n",
    "data = []\n",
    "data.append(\"{measurement},location={location},fruit={fruit},id={id} x={x},y={y},z={z}i {timestamp}\"\n",
    "            .format(measurement=measurement_name,\n",
    "                    location=random.choice(location_tags),\n",
    "                    fruit=random.choice(fruit_tags),\n",
    "                    id=random.choice(id_tags),\n",
    "                    x=round(random.random(),4),\n",
    "                    y=round(random.random(),4),\n",
    "                    z=random.randint(0,50),\n",
    "                    timestamp=data_end_time))\n",
    "current_point_time = data_end_time\n",
    "for i in range(number_of_points-1):\n",
    "    current_point_time = current_point_time - random.randint(1,100)\n",
    "    data.append(\"{measurement},location={location},fruit={fruit},id={id} x={x},y={y},z={z}i {timestamp}\"\n",
    "                .format(measurement=measurement_name,\n",
    "                        location=random.choice(location_tags),\n",
    "                        fruit=random.choice(fruit_tags),\n",
    "                        id=random.choice(id_tags),\n",
    "                        x=round(random.random(),4),\n",
    "                        y=round(random.random(),4),\n",
    "                        z=random.randint(0,50),\n",
    "                        timestamp=current_point_time))\n",
    "\n",
    "client_write_start_time = time.perf_counter()\n",
    "\n",
    "client.write_points(data, database='writetest', time_precision='ms', batch_size=10000, protocol='line')\n",
    "\n",
    "client_write_end_time = time.perf_counter()\n",
    "\n",
    "print(\"Client Library Write: {time}s\".format(time=client_write_end_time - client_write_start_time))\n"
   ],
   "metadata": {
    "collapsed": false,
    "pycharm": {
     "name": "#%%\n",
     "is_executing": false
    }
   }
  }
 ],
 "metadata": {
  "kernelspec": {
   "display_name": "Python 3",
   "language": "python",
   "name": "python3"
  },
  "language_info": {
   "codemirror_mode": {
    "name": "ipython",
    "version": 2
   },
   "file_extension": ".py",
   "mimetype": "text/x-python",
   "name": "python",
   "nbconvert_exporter": "python",
   "pygments_lexer": "ipython2",
   "version": "2.7.6"
  },
  "pycharm": {
   "stem_cell": {
    "cell_type": "raw",
    "source": [],
    "metadata": {
     "collapsed": false
    }
   }
  }
 },
 "nbformat": 4,
 "nbformat_minor": 0
}